{
 "cells": [
  {
   "cell_type": "markdown",
   "metadata": {},
   "source": [
    "### Problem : Given an integer array nums, return true if any value appears at least twice in the array, and return false if every element is distinct."
   ]
  },
  {
   "cell_type": "markdown",
   "metadata": {},
   "source": [
    "- Function: Check if there are any duplicates in the array \n",
    "- Return: True or False\n",
    "- Highlights: Array may not be sorted.\n",
    " \n",
    " \n",
    "\n",
    "####  Bruteforce: Iterate through every element in the array and check if that same element exists anywhere to its right.\n",
    "- Time - O(N^2) Space - O(1)\n",
    "\n",
    "#### Method 1: Sort the array. If array is sorted then same elements will be adjacent to each other. We can then iterate through the loop and check if current element == previous element. \n",
    "- Time- O(NlogN) Space - Depends on sorting algorithm. \n",
    "\n",
    "#### Method 2: HashTable. Iterate through array and store elements in hashmap. If an element is already in hashmap, that would mean that we have seen that element before and hence the array contains duplicates.\n",
    "- Time- O(N) space O(N)\n",
    "- Operations needed: search, insert\n",
    "- Data structures possible: Sets, Hashtables, lists\n",
    " \n",
    "\n",
    "Tip: Use Set instead of list. Set would have O(1) lookup time as it is derived from Hashtable. List would have O(N) lookup time\n"
   ]
  },
  {
   "cell_type": "code",
   "execution_count": 8,
   "metadata": {},
   "outputs": [
    {
     "data": {
      "text/plain": [
       "True"
      ]
     },
     "execution_count": 8,
     "metadata": {},
     "output_type": "execute_result"
    }
   ],
   "source": [
    "\n",
    "# Method 3: Hashtable\n",
    "\n",
    "def check_dups(nums):\n",
    "    hashSet = set()\n",
    "    for element in nums:\n",
    "        if element in hashSet:\n",
    "            return True\n",
    "        hashSet.add(element)\n",
    "\n",
    "    return False\n",
    "\n",
    "nums = [1,2,3,8,0,-1,0]\n",
    "check_dups(nums)"
   ]
  },
  {
   "cell_type": "code",
   "execution_count": null,
   "metadata": {},
   "outputs": [],
   "source": []
  }
 ],
 "metadata": {
  "kernelspec": {
   "display_name": "Python 3",
   "language": "python",
   "name": "python3"
  },
  "language_info": {
   "codemirror_mode": {
    "name": "ipython",
    "version": 3
   },
   "file_extension": ".py",
   "mimetype": "text/x-python",
   "name": "python",
   "nbconvert_exporter": "python",
   "pygments_lexer": "ipython3",
   "version": "3.8.3"
  }
 },
 "nbformat": 4,
 "nbformat_minor": 4
}
